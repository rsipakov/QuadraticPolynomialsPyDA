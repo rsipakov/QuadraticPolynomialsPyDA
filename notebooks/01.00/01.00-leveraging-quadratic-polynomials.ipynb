{
 "cells": [
  {
   "metadata": {},
   "cell_type": "markdown",
   "source": [
    "## Title: Leveraging Quadratic Polynomials in Python for Advanced Data Analysis\n",
    "\n",
    "### Version 1"
   ],
   "id": "1e9a89e97d01b8d3"
  },
  {
   "metadata": {},
   "cell_type": "code",
   "outputs": [],
   "execution_count": null,
   "source": [
    "import numpy as np\n",
    "import matplotlib.pyplot as plt\n",
    "import pandas as pd  # Import pandas for handling CSV\n",
    "from numpy.polynomial.polynomial import Polynomial\n",
    "from sklearn.preprocessing import StandardScaler # v2"
   ],
   "id": "98b16bb0"
  },
  {
   "metadata": {},
   "cell_type": "code",
   "source": [
    "# User inputs for the descriptive elements of the plot\n",
    "description = input(\"Enter the location description (e.g., Kyiv, Shcherbakovskaya St.): \")\n",
    "pollution_name = input(\"Enter the pollution name (e.g., PM2.5): \")\n",
    "y_label = input(\"Enter the y-axis label (e.g., PM2.5 Index): \")"
   ],
   "id": "223ec3bdff482219",
   "outputs": [],
   "execution_count": null
  },
  {
   "cell_type": "code",
   "id": "21abdf78",
   "metadata": {},
   "source": [
    "# Read data from a CSV file\n",
    "# Use the direct link to the raw CSV file from the GitHub repository\n",
    "data = pd.read_csv('https://raw.githubusercontent.com/rsipakov/QuadraticPolynomialsPyDA/main/notebooks/pm_data.csv')\n",
    "# Or downloading CSV file to the local\n",
    "# data = pd.read_csv('/path/pm_data.csv')  # Update the path to your CSV file"
   ],
   "outputs": [],
   "execution_count": null
  },
  {
   "metadata": {},
   "cell_type": "code",
   "source": [
    "# v2 Handling Missing Values\n",
    "# removes any rows with missing values from the dataset to ensure that the subsequent analysis is not affected by incomplete data\n",
    "data.dropna(inplace=True)"
   ],
   "id": "167237bb8beb9998",
   "outputs": [],
   "execution_count": null
  },
  {
   "metadata": {},
   "cell_type": "code",
   "source": [
    "# v2 Outlier Detection and Treatment using Z-Score method\n",
    "z_scores = np.abs((data - data.mean()) / data.std())\n",
    "data = data[(z_scores < 3).all(axis=1)]"
   ],
   "id": "68bbcfd7f4bda39e",
   "outputs": [],
   "execution_count": null
  },
  {
   "metadata": {},
   "cell_type": "code",
   "source": [
    "# Extracting months and values\n",
    "months = data['Month'].to_numpy()\n",
    "values = data['Values'].to_numpy()  # Corrected to 'Values'"
   ],
   "id": "9da4eaf6dbcadb99",
   "outputs": [],
   "execution_count": null
  },
  {
   "metadata": {},
   "cell_type": "code",
   "source": [
    "# v.2 Data Normalization using StandardScaler\n",
    "scaler = StandardScaler()\n",
    "months_scaled = scaler.fit_transform(months.reshape(-1, 1)).flatten()\n",
    "values_scaled = scaler.fit_transform(values.reshape(-1, 1)).flatten()"
   ],
   "id": "a727d43db53be6ed",
   "outputs": [],
   "execution_count": null
  },
  {
   "metadata": {},
   "cell_type": "code",
   "source": [
    "# v.2 Fit the quadratic polynomial\n",
    "coefs = Polynomial.fit(months_scaled, values_scaled, 2).convert().coef"
   ],
   "id": "6e26d8d35e31b633",
   "outputs": [],
   "execution_count": null
  },
  {
   "metadata": {},
   "cell_type": "code",
   "source": [
    "# v.2 Calculate y values from the fitted polynomial coefficients\n",
    "fitted_y_values = coefs[0] + coefs[1] * months_scaled + coefs[2] * months_scaled**2"
   ],
   "id": "dd9f602bbc4c053a",
   "outputs": [],
   "execution_count": null
  },
  {
   "metadata": {},
   "cell_type": "code",
   "source": [
    "# v.2 Calculate R-squared value\n",
    "residuals = values_scaled - fitted_y_values\n",
    "ss_res = np.sum(residuals**2)\n",
    "ss_tot = np.sum((values_scaled - np.mean(values_scaled))**2)\n",
    "r_squared = 1 - (ss_res / ss_tot)"
   ],
   "id": "886a6542b93ec748",
   "outputs": [],
   "execution_count": null
  },
  {
   "metadata": {},
   "cell_type": "code",
   "source": [
    "# v.2 Generate a smooth curve by evaluating the polynomial at many points\n",
    "x = np.linspace(months_scaled.min(), months_scaled.max(), 200)\n",
    "y = coefs[0] + coefs[1] * x + coefs[2] * x**2"
   ],
   "id": "6da14dae54721ee",
   "outputs": [],
   "execution_count": null
  },
  {
   "metadata": {},
   "cell_type": "code",
   "source": [
    "# Create the plot\n",
    "plt.figure(figsize=(12, 7))\n",
    "\n",
    "# Plot the data and the fitted curve\n",
    "plt.scatter(months_scaled, values_scaled, color='black', label='Actual Data')\n",
    "plt.plot(x, y, color='purple', label=f'Fitted curve: {coefs[2]:.4f}$x^2$ + {coefs[1]:.4f}$x$ + {coefs[0]:.4f}\\n$R^2 = {r_squared:.4f}$')\n",
    "\n",
    "# Title and labels using user inputs\n",
    "plt.title(f'{pollution_name} by Month in \\n{description}')\n",
    "plt.xlabel('Month')\n",
    "plt.ylabel(y_label)\n",
    "\n",
    "# Add legend and grid\n",
    "plt.legend()\n",
    "plt.grid(True)\n",
    "\n",
    "# Show the plot\n",
    "plt.show()"
   ],
   "id": "7f6f294d9b41bd66",
   "outputs": [],
   "execution_count": null
  },
  {
   "metadata": {},
   "cell_type": "code",
   "source": "",
   "id": "64d25d5f6430acf6",
   "outputs": [],
   "execution_count": null
  }
 ],
 "metadata": {
  "kernelspec": {
   "display_name": "Python 3 (ipykernel)",
   "language": "python",
   "name": "python3"
  },
  "language_info": {
   "codemirror_mode": {
    "name": "ipython",
    "version": 3
   },
   "file_extension": ".py",
   "mimetype": "text/x-python",
   "name": "python",
   "nbconvert_exporter": "python",
   "pygments_lexer": "ipython3",
   "version": "3.11.4"
  }
 },
 "nbformat": 4,
 "nbformat_minor": 5
}
